{
 "cells": [
  {
   "cell_type": "code",
   "execution_count": 40,
   "id": "48cb0910-1533-410e-98c3-58f27609173e",
   "metadata": {},
   "outputs": [
    {
     "data": {
      "text/plain": [
       "str"
      ]
     },
     "execution_count": 40,
     "metadata": {},
     "output_type": "execute_result"
    }
   ],
   "source": [
    "a= \"ma\"\n",
    "type(a)"
   ]
  },
  {
   "cell_type": "code",
   "execution_count": 41,
   "id": "65d86b9e-8521-4a7e-8295-efeaf9a3bb99",
   "metadata": {},
   "outputs": [
    {
     "data": {
      "text/plain": [
       "123"
      ]
     },
     "execution_count": 41,
     "metadata": {},
     "output_type": "execute_result"
    }
   ],
   "source": [
    "int(\"123\")"
   ]
  },
  {
   "cell_type": "code",
   "execution_count": 45,
   "id": "015edf81-bbcd-4d5d-9d20-0edd5bded032",
   "metadata": {},
   "outputs": [
    {
     "name": "stdout",
     "output_type": "stream",
     "text": [
      "My age is: 44\n"
     ]
    }
   ],
   "source": [
    "# f string\n",
    "age = 44\n",
    "print(f\"My age is: {age}\")"
   ]
  },
  {
   "cell_type": "code",
   "execution_count": 46,
   "id": "1ab38f86-6b1a-4368-bdcc-9ed97779cccc",
   "metadata": {},
   "outputs": [
    {
     "name": "stdout",
     "output_type": "stream",
     "text": [
      "My name is Rohit and my age is 33\n"
     ]
    }
   ],
   "source": [
    "## format()\n",
    "name=\"Rohit\"\n",
    "age=33\n",
    "print(\"My name is {} and my age is {}\".format(name,age))\n"
   ]
  },
  {
   "cell_type": "code",
   "execution_count": 48,
   "id": "7286718f-4c71-4776-8d6e-1da1c7159904",
   "metadata": {},
   "outputs": [
    {
     "name": "stdout",
     "output_type": "stream",
     "text": [
      "My name is rohit and i have completed age of 30 and my deegree is mba\n"
     ]
    }
   ],
   "source": [
    "name=\"rohit\"\n",
    "age=30\n",
    "mydegree=\"mba\"\n",
    "print(\"My name is {} and i have completed age of {} and my deegree is {}\".format(name,age,mydegree)) "
   ]
  },
  {
   "cell_type": "code",
   "execution_count": 51,
   "id": "6c0b0930-46d5-4e3c-9df1-b922e672e23c",
   "metadata": {},
   "outputs": [
    {
     "name": "stdin",
     "output_type": "stream",
     "text": [
      "Enter ur age:  18\n"
     ]
    },
    {
     "name": "stdout",
     "output_type": "stream",
     "text": [
      "you are eligible to vote\n"
     ]
    }
   ],
   "source": [
    "## control flow\n",
    "## Decision making statements\n",
    "### if statement\n",
    "age=int(input(\"Enter ur age: \"))\n",
    "if age>= 18:\n",
    "    print(\"you are eligible to vote\")\n",
    "else:\n",
    "    print(\"you can not vote\")\n"
   ]
  },
  {
   "cell_type": "code",
   "execution_count": 52,
   "id": "f8c0461c-a5b1-436f-a51b-e934930ee348",
   "metadata": {},
   "outputs": [
    {
     "name": "stdin",
     "output_type": "stream",
     "text": [
      "Enter your age: 33\n"
     ]
    },
    {
     "name": "stdout",
     "output_type": "stream",
     "text": [
      "you are a young blood\n"
     ]
    }
   ],
   "source": [
    "## task\n",
    "age=int(input(\"Enter your age:\"))\n",
    "if age>=18 and age<=45:\n",
    "    print(\"you are a young blood\")"
   ]
  },
  {
   "cell_type": "code",
   "execution_count": 1,
   "id": "d1343f54-cbc7-499f-8485-889c4d11ccda",
   "metadata": {},
   "outputs": [
    {
     "name": "stdin",
     "output_type": "stream",
     "text": [
      "Enter your age: 55\n"
     ]
    },
    {
     "name": "stdout",
     "output_type": "stream",
     "text": [
      "Thank you we will let you know\n"
     ]
    }
   ],
   "source": [
    "age=int(input(\"Enter your age:\"))\n",
    "if age>=18 and age<=45:\n",
    "    print(\"you are a young blood\")\n",
    "else:\n",
    "    print(\"Thank you we will let you know\")"
   ]
  },
  {
   "cell_type": "code",
   "execution_count": 5,
   "id": "6f45179f-ba55-482d-8b26-7afacabad002",
   "metadata": {},
   "outputs": [
    {
     "name": "stdin",
     "output_type": "stream",
     "text": [
      " Enter the price of product 500\n"
     ]
    },
    {
     "name": "stdout",
     "output_type": "stream",
     "text": [
      "the final price is  400.0\n"
     ]
    }
   ],
   "source": [
    "## Mall \n",
    "## product >1000 rs 20% off\n",
    "## product <= rs 1000 30%\n",
    "## print the product price \n",
    "price= int(input(\" Enter the price of product\"))\n",
    "if price > 1000:\n",
    "    discounted_price= price*30/100\n",
    "    final_price=price-discounted_price\n",
    "    print(\"the final price is \", final_price)\n",
    "else:\n",
    "    discounted_price= price*20/100\n",
    "    final_price=price-discounted_price\n",
    "    print(\"the final price is \", final_price)"
   ]
  },
  {
   "cell_type": "code",
   "execution_count": 3,
   "id": "73a1639f-0876-439c-b7f8-97388660c4ff",
   "metadata": {},
   "outputs": [
    {
     "name": "stdin",
     "output_type": "stream",
     "text": [
      "enter the price of product 300\n"
     ]
    },
    {
     "name": "stdout",
     "output_type": "stream",
     "text": [
      " the final price of the product is 210.0\n"
     ]
    }
   ],
   "source": [
    "price=int(input(\"enter the price of product\"))\n",
    "if price>1000:\n",
    "    print(\"the final price of the product is {}\".format(price*0.8))\n",
    "else:\n",
    "    print(\" the final price of the product is {}\".format(price*0.7))"
   ]
  },
  {
   "cell_type": "code",
   "execution_count": 13,
   "id": "19161f51-9df7-4d78-9d13-a47f7cb51233",
   "metadata": {},
   "outputs": [
    {
     "name": "stdin",
     "output_type": "stream",
     "text": [
      "input the product price 3000\n"
     ]
    },
    {
     "name": "stdout",
     "output_type": "stream",
     "text": [
      "the product price after removing the discount is 2100.0\n"
     ]
    }
   ],
   "source": [
    "price=int(input(\"input the product price\"))\n",
    "if price>3000:\n",
    "    if price==4000:\n",
    "        print(\"congrates u win a goa trip\")\n",
    "    print(\"the product price after removing the discount is {}\".format(price*0.8))\n",
    "elif price >=2000 and price<=3000:\n",
    "    print(\"the product price after removing the discount is {}\".format(price*0.7))\n",
    "elif price >=100 and price<2000:\n",
    "    print(\"the product price after removing the discount is {}\".format(price*0.6))\n",
    "else:\n",
    "    print(\"shop more for discont\")"
   ]
  },
  {
   "cell_type": "code",
   "execution_count": null,
   "id": "4e37a71c-fb25-432f-9a39-20a3227ca430",
   "metadata": {},
   "outputs": [],
   "source": [
    "## single statement\n",
    "val=int(input(\"Enter the number\"))"
   ]
  }
 ],
 "metadata": {
  "kernelspec": {
   "display_name": "Python 3 (ipykernel)",
   "language": "python",
   "name": "python3"
  },
  "language_info": {
   "codemirror_mode": {
    "name": "ipython",
    "version": 3
   },
   "file_extension": ".py",
   "mimetype": "text/x-python",
   "name": "python",
   "nbconvert_exporter": "python",
   "pygments_lexer": "ipython3",
   "version": "3.10.8"
  }
 },
 "nbformat": 4,
 "nbformat_minor": 5
}
